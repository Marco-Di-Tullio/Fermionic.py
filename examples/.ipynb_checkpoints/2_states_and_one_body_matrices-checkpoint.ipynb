{
 "cells": [
  {
   "cell_type": "code",
   "execution_count": 3,
   "metadata": {},
   "outputs": [
    {
     "name": "stdout",
     "output_type": "stream",
     "text": [
      "The autoreload extension is already loaded. To reload it, use:\n",
      "  %reload_ext autoreload\n"
     ]
    }
   ],
   "source": [
    "import sys\n",
    "sys.path.append(\"../\") # go to parent dir\n",
    "\n",
    "\n",
    "%load_ext autoreload\n",
    "%autoreload 2"
   ]
  },
  {
   "cell_type": "code",
   "execution_count": 4,
   "metadata": {},
   "outputs": [
    {
     "name": "stdout",
     "output_type": "stream",
     "text": [
      "Choose the dimension of the system: 4\n",
      "--- 1.8296480178833008 seconds ---\n"
     ]
    }
   ],
   "source": [
    "from main.fermionic import *"
   ]
  },
  {
   "cell_type": "code",
   "execution_count": 12,
   "metadata": {
    "scrolled": true
   },
   "outputs": [
    {
     "name": "stdout",
     "output_type": "stream",
     "text": [
      "Choose dimension: 4\n"
     ]
    }
   ],
   "source": [
    "#If you want to change dimension:\n",
    "n = int(input('Choose dimension: '))\n",
    "basis, vacio = integer_digits(n)\n",
    "cm_tot, cd_tot, l = operators(n)"
   ]
  },
  {
   "cell_type": "markdown",
   "metadata": {},
   "source": [
    "We generate a random state of 2 particles"
   ]
  },
  {
   "cell_type": "code",
   "execution_count": 42,
   "metadata": {},
   "outputs": [
    {
     "name": "stdout",
     "output_type": "stream",
     "text": [
      "[ 0.          0.          0.         -0.16894073  0.          0.50176448\n",
      " -0.76321666  0.          0.          0.17361914  0.15198337  0.\n",
      " -0.2897399   0.          0.          0.        ]\n"
     ]
    }
   ],
   "source": [
    "nume = 2\n",
    "state = np.zeros(l)\n",
    "\n",
    "for i in range(l):\n",
    "    if basis[i].sum() == nume:\n",
    "        state[i] = 2*np.random.rand()-1\n",
    "\n",
    "state = state/np.sqrt(state.dot(state))\n",
    "print(state)"
   ]
  },
  {
   "cell_type": "code",
   "execution_count": 43,
   "metadata": {
    "scrolled": true
   },
   "outputs": [
    {
     "data": {
      "text/plain": [
       "1.0"
      ]
     },
     "execution_count": 43,
     "metadata": {},
     "output_type": "execute_result"
    }
   ],
   "source": [
    "state.dot(state)"
   ]
  },
  {
   "cell_type": "markdown",
   "metadata": {},
   "source": [
    "And finally the one body matrix"
   ]
  },
  {
   "cell_type": "code",
   "execution_count": 47,
   "metadata": {},
   "outputs": [
    {
     "name": "stdout",
     "output_type": "stream",
     "text": [
      "[[ 0.13719176 -0.02888032 -0.25046566  0.17105737]\n",
      " [-0.02888032  0.91821648 -0.1288041  -0.17924277]\n",
      " [-0.25046566 -0.1288041   0.63413959 -0.35656779]\n",
      " [ 0.17105737 -0.17924277 -0.35656779  0.31045217]]\n"
     ]
    }
   ],
   "source": [
    "rhosp = np.zeros((n,n))\n",
    "for i in range(n):\n",
    "    for j in range(n):\n",
    "        rhosp[i,j] = state.dot(cdcm(j,i).dot(state))\n",
    "print(rhosp)"
   ]
  }
 ],
 "metadata": {
  "kernelspec": {
   "display_name": "Python 3",
   "language": "python",
   "name": "python3"
  },
  "language_info": {
   "codemirror_mode": {
    "name": "ipython",
    "version": 3
   },
   "file_extension": ".py",
   "mimetype": "text/x-python",
   "name": "python",
   "nbconvert_exporter": "python",
   "pygments_lexer": "ipython3",
   "version": "3.6.10"
  }
 },
 "nbformat": 4,
 "nbformat_minor": 4
}
