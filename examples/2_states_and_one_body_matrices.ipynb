{
 "cells": [
  {
   "cell_type": "code",
   "execution_count": 1,
   "metadata": {},
   "outputs": [],
   "source": [
    "import sys\n",
    "sys.path.append(\"../\") # go to parent dir\n",
    "\n",
    "\n",
    "%load_ext autoreload\n",
    "%autoreload 2"
   ]
  },
  {
   "cell_type": "code",
   "execution_count": 2,
   "metadata": {},
   "outputs": [
    {
     "name": "stdout",
     "output_type": "stream",
     "text": [
      "Choose the dimension of the system: 4\n",
      "--- 1.2563159465789795 seconds ---\n"
     ]
    }
   ],
   "source": [
    "from main.fermionic import *\n",
    "\n",
    "basis, vacio = integer_digits(n)"
   ]
  },
  {
   "cell_type": "code",
   "execution_count": null,
   "metadata": {
    "scrolled": true
   },
   "outputs": [],
   "source": [
    "#If you want to change dimension:\n",
    "n = int(input('Choose dimension: '))\n",
    "basis, vacio = integer_digits(n)\n",
    "cm_tot, cd_tot, l = operators(n)"
   ]
  },
  {
   "cell_type": "markdown",
   "metadata": {},
   "source": [
    "We generate a random state of 2 particles"
   ]
  },
  {
   "cell_type": "code",
   "execution_count": 7,
   "metadata": {},
   "outputs": [
    {
     "name": "stdout",
     "output_type": "stream",
     "text": [
      "[ 0.          0.          0.         -0.51262646  0.          0.23796381\n",
      " -0.5584312   0.          0.         -0.34845846 -0.37762403  0.\n",
      "  0.32360273  0.          0.          0.        ]\n"
     ]
    }
   ],
   "source": [
    "nume = 2\n",
    "state = np.zeros(l)\n",
    "\n",
    "for i in range(l):\n",
    "    if basis[i].sum() == nume:\n",
    "        state[i] = 2*np.random.rand()-1\n",
    "\n",
    "state = state/np.sqrt(state.dot(state))\n",
    "print(state)"
   ]
  },
  {
   "cell_type": "code",
   "execution_count": 8,
   "metadata": {
    "scrolled": true
   },
   "outputs": [
    {
     "data": {
      "text/plain": [
       "1.0"
      ]
     },
     "execution_count": 8,
     "metadata": {},
     "output_type": "execute_result"
    }
   ],
   "source": [
    "state.dot(state)"
   ]
  },
  {
   "cell_type": "markdown",
   "metadata": {},
   "source": [
    "And finally the one body matrix"
   ]
  },
  {
   "cell_type": "code",
   "execution_count": 9,
   "metadata": {},
   "outputs": [
    {
     "name": "stdout",
     "output_type": "stream",
     "text": [
      "[[ 0.36874193  0.12795654  0.35933889 -0.27058581]\n",
      " [ 0.12795654  0.47319091 -0.24418671 -0.39902872]\n",
      " [ 0.35933889 -0.24418671  0.7172312  -0.00130013]\n",
      " [-0.27058581 -0.39902872 -0.00130013  0.44083596]]\n"
     ]
    }
   ],
   "source": [
    "rhosp = np.zeros((n,n))\n",
    "for i in range(n):\n",
    "    for j in range(n):\n",
    "        rhosp[i,j] = state.dot(cdcm(j,i).dot(state))\n",
    "print(rhosp)"
   ]
  }
 ],
 "metadata": {
  "kernelspec": {
   "display_name": "Python 3",
   "language": "python",
   "name": "python3"
  },
  "language_info": {
   "codemirror_mode": {
    "name": "ipython",
    "version": 3
   },
   "file_extension": ".py",
   "mimetype": "text/x-python",
   "name": "python",
   "nbconvert_exporter": "python",
   "pygments_lexer": "ipython3",
   "version": "3.6.10"
  }
 },
 "nbformat": 4,
 "nbformat_minor": 4
}
